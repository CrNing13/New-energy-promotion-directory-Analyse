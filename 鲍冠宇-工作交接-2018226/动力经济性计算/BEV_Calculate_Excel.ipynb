{
 "cells": [
  {
   "cell_type": "code",
   "execution_count": 1,
   "metadata": {
    "collapsed": true
   },
   "outputs": [],
   "source": [
    "import pandas as pd\n",
    "import numpy as np\n",
    "import math\n",
    "import re"
   ]
  },
  {
   "cell_type": "code",
   "execution_count": 2,
   "metadata": {
    "collapsed": true
   },
   "outputs": [],
   "source": [
    "primary_data=pd.read_excel(r\"D:\\bao.guanyu\\LocGit\\2018222\\vehicle_parameter.xlsx\")\n",
    "primary_condition=pd.read_excel(r\"D:\\bao.guanyu\\LocGit\\2018222\\c-wtvc.xlsx\")\n",
    "condition=primary_condition.iloc[:,1]\n",
    "cwtvc_city=condition[0:900]\n",
    "cwtvc_road=condition[900:1368]\n",
    "cwtvc_highway=condition[1368:]"
   ]
  },
  {
   "cell_type": "code",
   "execution_count": 3,
   "metadata": {
    "collapsed": true
   },
   "outputs": [],
   "source": [
    "def viehicle_power(m_full,high,width,r,Cd,eff_trans,g,lamata,motor_e,motor_z,i1,i0):\n",
    "    k=re.compile('\\d+')\n",
    "    motor_e=k.findall(motor_e)\n",
    "    Pe=float(motor_e[0])\n",
    "    Te=float(motor_e[2])\n",
    "    motor_z=k.findall(motor_z)\n",
    "    Pz=float(motor_z[0])\n",
    "    nz=float(motor_z[1])\n",
    "    Tz=float(motor_z[2])\n",
    "    h=re.compile('\\d+\\.\\d+')\n",
    "    try:\n",
    "        i1=h.findall(i1)\n",
    "        i1=np.array(list(map(float,i1)))\n",
    "    except:\n",
    "        i1=float(i1)\n",
    "        i1=np.array([i1,i1])\n",
    "    A=width/1000*high/1000*0.81\n",
    "    r=r/1000\n",
    "    i0=float(i0)\n",
    "    i1=i1*i0\n",
    "    def vehicle_res(v,grade):\n",
    "        f=0.0076+0.000056*v\n",
    "        Ff=f*m_full*g*math.cos(math.atan(grade))\n",
    "        Fw=Cd*A*v**2/21.15\n",
    "        Fj=m_full*g*math.sin(math.atan(grade))\n",
    "        Fres=Ff+Fw+Fj\n",
    "        return Fres\n",
    "    def vehicle_F(v,rate,peak):\n",
    "        v=np.array(v)\n",
    "        rate=np.array(rate)\n",
    "        if peak=='peak':\n",
    "            P=Pz\n",
    "            T=Tz\n",
    "        else:\n",
    "            P=Pe\n",
    "            T=Te\n",
    "        n=v*rate/0.377/r\n",
    "        T1=P*9550/n*eff_trans\n",
    "        T1=np.array(T1)\n",
    "        T1[T1>T]=T\n",
    "        F=T1*rate/r\n",
    "        return F\n",
    "    \n",
    "    #车速坡道车速爬坡度计算\n",
    "    count=0\n",
    "    grade_z=0\n",
    "    v_max=np.zeros(len(i1))\n",
    "    v_maxz=np.zeros(len(i1))\n",
    "    v_4=np.zeros(len(i1))\n",
    "    v_15=np.zeros(len(i1))\n",
    "    for i_current in i1:\n",
    "        v=np.arange(0,200,0.1)\n",
    "        Fi1=vehicle_F(v,i_current,'rated')-vehicle_res(v,0)\n",
    "        for i in range(1,len(v)):\n",
    "            if Fi1[i]<0 or v[i]*i_current/0.377/r>nz:\n",
    "                v_max[count]=v[i-1]\n",
    "                break\n",
    "            \n",
    "        Fi1=vehicle_F(v,i_current,'peak')-vehicle_res(v,0)\n",
    "        for i in range(1,len(v)):\n",
    "            if Fi1[i]<0 or v[i]*i_current/0.377/r>nz:\n",
    "                v_maxz[count]=v[i-1]\n",
    "                break\n",
    "        \n",
    "        v=np.arange(0.1,200,0.1)\n",
    "        Fi2=vehicle_F(v,i_current,'rated')-vehicle_res(v,0.04)\n",
    "        for i in range(1,len(v)):\n",
    "            if Fi2[i]<0 or v[i]*i_current/0.377/r>nz:\n",
    "                v_4[count]=v[i-1]\n",
    "                break\n",
    "        \n",
    "        v=np.arange(0,200,0.1) \n",
    "        Fi3=vehicle_F(v,i_current,'peak')-vehicle_res(v,0.15)\n",
    "        for i in range(1,len(v)):\n",
    "            if Fi3[i]<0 or v[i]*i_current/0.377/r>nz:\n",
    "                v_15[count]=v[i-1]\n",
    "                break\n",
    "        count=count+1\n",
    "    for grade in np.arange(1,0.04,-0.001):\n",
    "        Fi4=vehicle_F(5,i1.max(),'peak')-vehicle_res(5,grade)\n",
    "        if Fi4>0:\n",
    "            grade_z=grade\n",
    "            break\n",
    "    \n",
    "            \n",
    "    '''\n",
    "    print(Pe,Te,Pz,nz,Tz,i1,i0)\n",
    "    print('持续最高车速为:%skm/h'%(v_max.max()))\n",
    "    print('最大爬坡度:%s%%'%(grade_z*100))\n",
    "    print('4%%坡道车速为:%skm/h'%(v_4.max()))\n",
    "    print('15%%坡道车速为:%skm/h'%(v_15.max()))\n",
    "    '''\n",
    "    \n",
    "    #加速时间计算   \n",
    "    error_count=0\n",
    "    v=0\n",
    "    t=0\n",
    "    dt=0.1\n",
    "    flag30=1\n",
    "    flag50=1\n",
    "    flag80=1\n",
    "    Fi5=np.zeros(len(i1))\n",
    "    t_30=np.nan\n",
    "    t_50=np.nan\n",
    "    t_80=np.nan\n",
    "    while v<100 :\n",
    "        for i in range(0,len(i1)):\n",
    "            Fi5[i]=vehicle_F(v,i1[i],'peak')-vehicle_res(v,0)\n",
    "        a=Fi5.max()/lamata/m_full\n",
    "        v=v+a*dt*3.6\n",
    "        t=t+dt\n",
    "        error_count=error_count+1\n",
    "        if v>30 and flag30==1:\n",
    "            t_30=t\n",
    "            flag30=0\n",
    "        if v>50 and flag50==1:\n",
    "            t_50=t\n",
    "            flag50=0\n",
    "        if v>80 and flag80==1:\n",
    "            t_80=t\n",
    "            flag80=0\n",
    "        if error_count>10000:\n",
    "            break\n",
    "    t_30=round(t_30,2)\n",
    "    t_50=round(t_50,2)\n",
    "    t_80=round(t_80,2)\n",
    "    #print('0-30km/h加速时间:%s\\n0-50km/h加速时间:%s\\n0-80km/h加速时间:%s'%(t_30,t_50,t_80))\n",
    "    Twz=Tz*i1.max()\n",
    "    \n",
    "    #能耗计算\n",
    "    def W_equalspeed(v):\n",
    "        P=vehicle_res(v,0)*v/3.6/1000\n",
    "        W100=P/v*100\n",
    "        return W100\n",
    "    def W_cwtvc(cwtvc):\n",
    "        W=0\n",
    "        s=0\n",
    "        for i in cwtvc:\n",
    "            W=W+vehicle_res(i,0)*i/3.6/1000*1/3600\n",
    "            s=s+i*1/3600\n",
    "        W100=W/s*100\n",
    "        return W100\n",
    "    '''\n",
    "    print('40km/h等速白公里能耗%s','60km/h等速白公里能耗%s',\\\n",
    "          'c-wtvc城市百公里能耗%s','c-wtvc公路百公里能耗%s','c-wtvc高速百公里能耗%s'\\\n",
    "          %(W_equalspeed(40),W_equalspeed(60),\\\n",
    "            W_cwtvc(cwtvc_city),W_cwtvc(cwtvc_road),W_cwtvc(cwtvc_highway)))\n",
    "    '''\n",
    "    \n",
    "    return Twz,grade_z,v_max.max(),v_maxz.max(),v_4.max(),v_15.max(),t_30,t_50,t_80,\\\n",
    "W_equalspeed(40),W_equalspeed(60),W_cwtvc(cwtvc_city),W_cwtvc(cwtvc_road),W_cwtvc(cwtvc_highway)"
   ]
  },
  {
   "cell_type": "code",
   "execution_count": 4,
   "metadata": {},
   "outputs": [
    {
     "name": "stderr",
     "output_type": "stream",
     "text": [
      "D:\\bao.guanyu\\Anaconda3\\lib\\site-packages\\ipykernel_launcher.py:38: RuntimeWarning: divide by zero encountered in true_divide\n",
      "D:\\bao.guanyu\\Anaconda3\\lib\\site-packages\\ipykernel_launcher.py:38: RuntimeWarning: divide by zero encountered in double_scalars\n"
     ]
    }
   ],
   "source": [
    "data=primary_data.iloc[0:,1:]\n",
    "data.index=primary_data.iloc[0:,0]\n",
    "result=index_title=['轮端最大扭矩','最大爬坡','持续车速','最高车速','4%坡道车速','15%坡道车速',\\\n",
    "                    '0-30km/h','0-50km/h','0-80km/h',\\\n",
    "                    '40km/h等速百公里能耗','60km/h等速百公里能耗',\\\n",
    "                    'c-wtvc城市百公里能耗','c-wtvc公路百公里能耗','c-wtvc高速百公里能耗']\n",
    "for i in data.columns:\n",
    "    try:\n",
    "        [m_full,high,width,r,Cd,eff_trans,lamata,g,motor_e,motor_z,i1,i0]=data[i][0:12]\n",
    "        data[i][index_title]=viehicle_power(m_full,high,width,r,Cd,eff_trans,g,lamata,motor_e,motor_z,i1,i0)\n",
    "    except:\n",
    "        pass"
   ]
  },
  {
   "cell_type": "code",
   "execution_count": 5,
   "metadata": {
    "collapsed": true
   },
   "outputs": [],
   "source": [
    "data.to_excel(r'D:\\bao.guanyu\\LocGit\\2018222\\vehicle_result.xlsx')"
   ]
  },
  {
   "cell_type": "code",
   "execution_count": 6,
   "metadata": {},
   "outputs": [
    {
     "name": "stdout",
     "output_type": "stream",
     "text": [
      "40km/h等速能耗 41.11 kWh/100km\n"
     ]
    }
   ],
   "source": [
    "#18t 40km/h\n",
    "m=16500\n",
    "v=40\n",
    "[a1,a2,a3]=841.5,7.05,0.165   #推荐阻力系数（m，v）\n",
    "Fres=a1+a2*v/3.6+a3*v*v\n",
    "P=Fres*v/3.6/1000\n",
    "W100=P/v*100/0.8\n",
    "print('40km/h等速能耗 %s kWh/100km'%round(W100,2))  #百公里能耗（效率80%）"
   ]
  }
 ],
 "metadata": {
  "kernelspec": {
   "display_name": "Python 3",
   "language": "python",
   "name": "python3"
  },
  "language_info": {
   "codemirror_mode": {
    "name": "ipython",
    "version": 3
   },
   "file_extension": ".py",
   "mimetype": "text/x-python",
   "name": "python",
   "nbconvert_exporter": "python",
   "pygments_lexer": "ipython3",
   "version": "3.6.3"
  }
 },
 "nbformat": 4,
 "nbformat_minor": 2
}
