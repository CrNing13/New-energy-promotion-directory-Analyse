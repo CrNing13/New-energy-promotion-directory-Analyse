{
 "cells": [
  {
   "cell_type": "code",
   "execution_count": 1,
   "metadata": {},
   "outputs": [
    {
     "data": {
      "text/html": [
       "<button onclick=\"$('.input, .prompt, .output_stderr, .output_error').toggle();\">Toggle Code</button>"
      ]
     },
     "metadata": {},
     "output_type": "display_data"
    }
   ],
   "source": [
    "import pandas as pd\n",
    "import numpy as np\n",
    "import math\n",
    "import re\n",
    "from ipywidgets import widgets,interact\n",
    "from IPython.display import display\n",
    "import IPython\n",
    "from IPython.display import display_html \n",
    "display_html(\"\"\"<button onclick=\"$('.input, .prompt, .output_stderr, .output_error').toggle();\">Toggle Code</button>\"\"\", raw=True)"
   ]
  },
  {
   "cell_type": "code",
   "execution_count": 2,
   "metadata": {
    "collapsed": true
   },
   "outputs": [],
   "source": [
    "m_text=widgets.FloatText(\n",
    "description='总质量（kg）',\n",
    "value=16000\n",
    ")\n",
    "high_text=widgets.FloatText(\n",
    "description='外廓高（mm）',\n",
    "value=2500\n",
    ")\n",
    "width_text=widgets.FloatText(\n",
    "description='外廓宽（mm）',\n",
    "value=3540\n",
    ")\n",
    "r_text=widgets.FloatText(\n",
    "description='轮胎半径（mm）',\n",
    "value=508\n",
    ")\n",
    "Cd_text=widgets.FloatText(\n",
    "description='风阻系数',\n",
    "value='0.5'\n",
    ")\n",
    "eff_trans_text=widgets.FloatText(\n",
    "description='传动效率',\n",
    "value='0.9127'\n",
    ")\n",
    "g_text=widgets.FloatText(\n",
    "description='重力加速度',\n",
    "value='9.8'\n",
    ")\n",
    "lamata_text=widgets.FloatText(\n",
    "description='转动惯量系数',\n",
    "value='1.14'\n",
    ")\n",
    "motore_text=widgets.Text(\n",
    "description='电机额定功率/转速/扭矩',\n",
    "value='120/1140/1005'\n",
    ")\n",
    "motorz_text=widgets.Text(\n",
    "description='电机峰值功率/转速/扭矩',\n",
    "value='250/2800/2800'\n",
    ")\n",
    "transmission=widgets.Text(\n",
    "description='变速箱速比',\n",
    "value='1.00'\n",
    ")\n",
    "reducer=widgets.FloatText(\n",
    "description='主减速比',\n",
    "value=6.33\n",
    ")"
   ]
  },
  {
   "cell_type": "code",
   "execution_count": 3,
   "metadata": {
    "collapsed": true
   },
   "outputs": [],
   "source": [
    "def viehicle_power(m_full,high,width,r,Cd,eff_trans,g,lamata,motor_e,motor_z,i1,i0):\n",
    "    k=re.compile('\\d+')\n",
    "    motor_e=k.findall(motor_e)\n",
    "    Pe=float(motor_e[0])\n",
    "    Te=float(motor_e[2])\n",
    "    motor_z=k.findall(motor_z)\n",
    "    Pz=float(motor_z[0])\n",
    "    nz=float(motor_z[1])\n",
    "    Tz=float(motor_z[2])\n",
    "    h=re.compile('\\d+\\.\\d+')\n",
    "    try:\n",
    "        i1=h.findall(i1)\n",
    "        i1=np.array(list(map(float,i1)))\n",
    "    except:\n",
    "        i1=float(i1)\n",
    "    A=width/1000*high/1000*0.81\n",
    "    r=r/1000\n",
    "    i0=float(i0)\n",
    "    i1=i1*i0\n",
    "    def vehicle_res(v,grade):\n",
    "        f=0.0076+0.000056*v\n",
    "        Ff=f*m_full*g*math.cos(math.atan(grade))\n",
    "        Fw=Cd*A*v**2/21.15\n",
    "        Fj=m_full*g*math.sin(math.atan(grade))\n",
    "        Fres=Ff+Fw+Fj\n",
    "        return Fres\n",
    "    def vehicle_F(v,rate,peak):\n",
    "        v=np.array(v)\n",
    "        rate=np.array(rate)\n",
    "        if peak=='peak':\n",
    "            P=Pz\n",
    "            T=Tz\n",
    "        else:\n",
    "            P=Pe\n",
    "            T=Te\n",
    "        n=v*rate/0.377/r\n",
    "        T1=P*9550/n*eff_trans\n",
    "        T1=np.array(T1)\n",
    "        T1[T1>T]=T\n",
    "        F=T1*rate/r\n",
    "        return F\n",
    "    \n",
    "    #车速坡道车速爬坡度计算\n",
    "    count=0\n",
    "    grade_z=0\n",
    "    v_max=np.zeros(len(i1))\n",
    "    v_maxz=np.zeros(len(i1))\n",
    "    v_4=np.zeros(len(i1))\n",
    "    v_15=np.zeros(len(i1))\n",
    "    for i_current in i1:\n",
    "        v=np.arange(0,200,0.01)\n",
    "        Fi1=vehicle_F(v,i_current,'rated')-vehicle_res(v,0)\n",
    "        for i in range(1,len(v)):\n",
    "            if Fi1[i]<0 or v[i]*i_current/0.377/r>nz:\n",
    "                v_max[count]=v[i-1]\n",
    "                break\n",
    "            \n",
    "        Fi1=vehicle_F(v,i_current,'peak')-vehicle_res(v,0)\n",
    "        for i in range(1,len(v)):\n",
    "            if Fi1[i]<0 or v[i]*i_current/0.377/r>nz:\n",
    "                v_maxz[count]=v[i-1]\n",
    "                break\n",
    "        \n",
    "        v=np.arange(0.1,200,0.01)\n",
    "        Fi2=vehicle_F(v,i_current,'rated')-vehicle_res(v,0.04)\n",
    "        for i in range(1,len(v)):\n",
    "            if Fi2[i]<0 or v[i]*i_current/0.377/r>nz:\n",
    "                v_4[count]=v[i-1]\n",
    "                break\n",
    "        \n",
    "        v=np.arange(0,200,0.01) \n",
    "        Fi3=vehicle_F(v,i_current,'peak')-vehicle_res(v,0.15)\n",
    "        for i in range(1,len(v)):\n",
    "            if Fi3[i]<0 or v[i]*i_current/0.377/r>nz:\n",
    "                v_15[count]=v[i-1]\n",
    "                break\n",
    "        count=count+1\n",
    "    for grade in np.arange(1,0.04,-0.001):\n",
    "        Fi4=vehicle_F(5,i1.max(),'peak')-vehicle_res(5,grade)\n",
    "        if Fi4>0:\n",
    "            grade_z=grade\n",
    "            break\n",
    "    print('持续最高车速为:%skm/h'%(v_max.max()))\n",
    "    print('持续最高车速为:%skm/h'%(v_maxz.max()))\n",
    "    print('最大爬坡度:%s%%'%(grade_z*100))\n",
    "    print('4%%坡道车速为:%skm/h'%(v_4.max()))\n",
    "    print('15%%坡道车速为:%skm/h'%(v_15.max()))\n",
    "    \n",
    "    #加速时间计算   \n",
    "    error_count=0\n",
    "    v=0\n",
    "    t=0\n",
    "    dt=0.1\n",
    "    flag30=1\n",
    "    flag50=1\n",
    "    flag80=1\n",
    "    Fi5=np.zeros(len(i1))\n",
    "    t_30=np.nan\n",
    "    t_50=np.nan\n",
    "    t_80=np.nan\n",
    "    while v<100 :\n",
    "        for i in range(0,len(i1)):\n",
    "            Fi5[i]=vehicle_F(v,i1[i],'peak')-vehicle_res(v,0)\n",
    "        a=Fi5.max()/lamata/m_full\n",
    "        v=v+a*dt*3.6\n",
    "        t=t+dt\n",
    "        error_count=error_count+1\n",
    "        if v>30 and flag30==1:\n",
    "            t_30=t\n",
    "            flag30=0\n",
    "        if v>50 and flag50==1:\n",
    "            t_50=t\n",
    "            flag50=0\n",
    "        if v>80 and flag80==1:\n",
    "            t_80=t\n",
    "            flag80=0\n",
    "        if error_count>10000:\n",
    "            break\n",
    "    t_30=round(t_30,2)\n",
    "    t_50=round(t_50,2)\n",
    "    t_80=round(t_80,2)\n",
    "    print('0-30km/h加速时间:%s\\n0-50km/h加速时间:%s\\n0-80km/h加速时间:%s'%(t_30,t_50,t_80))\n",
    "    #return grade_z,v_max.max(),v_maxz.max(),v_4.max(),v_15.max(),t_30,t_50,t_80\n"
   ]
  },
  {
   "cell_type": "code",
   "execution_count": 4,
   "metadata": {},
   "outputs": [
    {
     "data": {
      "application/vnd.jupyter.widget-view+json": {
       "model_id": "a911caa1d395430d9b81a24f0be7d3d7",
       "version_major": 2,
       "version_minor": 0
      },
      "text/plain": [
       "A Jupyter Widget"
      ]
     },
     "metadata": {},
     "output_type": "display_data"
    },
    {
     "data": {
      "text/plain": [
       "<function __main__.viehicle_power>"
      ]
     },
     "execution_count": 4,
     "metadata": {},
     "output_type": "execute_result"
    }
   ],
   "source": [
    "interact(viehicle_power,m_full=m_text,high=high_text,width=width_text,r=r_text,Cd=Cd_text,eff_trans=eff_trans_text,g=g_text,lamata=lamata_text,motor_e=motore_text,motor_z=motorz_text,i1=transmission,i0=reducer)"
   ]
  }
 ],
 "metadata": {
  "kernelspec": {
   "display_name": "Python 3",
   "language": "python",
   "name": "python3"
  },
  "language_info": {
   "codemirror_mode": {
    "name": "ipython",
    "version": 3
   },
   "file_extension": ".py",
   "mimetype": "text/x-python",
   "name": "python",
   "nbconvert_exporter": "python",
   "pygments_lexer": "ipython3",
   "version": "3.6.3"
  }
 },
 "nbformat": 4,
 "nbformat_minor": 2
}
