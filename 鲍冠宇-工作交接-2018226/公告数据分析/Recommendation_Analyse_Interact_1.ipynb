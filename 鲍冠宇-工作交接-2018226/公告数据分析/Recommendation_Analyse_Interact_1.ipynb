{
 "cells": [
  {
   "cell_type": "code",
   "execution_count": 1,
   "metadata": {},
   "outputs": [
    {
     "data": {
      "text/html": [
       "<button onclick=\"$('.input, .prompt, .output_stderr, .output_error').toggle();\">Toggle Code</button>"
      ]
     },
     "metadata": {},
     "output_type": "display_data"
    }
   ],
   "source": [
    "%matplotlib inline\n",
    "import pandas as pd\n",
    "import numpy as np\n",
    "import matplotlib.pyplot as plt\n",
    "import math\n",
    "import re\n",
    "#隐藏代码\n",
    "from IPython.display import display_html \n",
    "display_html(\"\"\"<button onclick=\"$('.input, .prompt, .output_stderr, .output_error').toggle();\">Toggle Code</button>\"\"\", raw=True)\n"
   ]
  },
  {
   "cell_type": "code",
   "execution_count": 2,
   "metadata": {
    "collapsed": true
   },
   "outputs": [],
   "source": [
    "#列名转换字典\n",
    "dict_columns={'总质量（吨）':'总质量（kg）','车长（米）':'外形尺寸（长×宽×高）长（mm）','电池电压（V）':'储能装置总成标称电压（V）','电池电量（kWh）':'储能装置总储电量（kWh）'}\n",
    "dict_columns_opposit={v:k for k,v in dict_columns.items()}\n"
   ]
  },
  {
   "cell_type": "code",
   "execution_count": 3,
   "metadata": {
    "collapsed": true
   },
   "outputs": [],
   "source": [
    "#原始数据载入\n",
    "primary_data=pd.read_excel(r\"C:\\Users\\chirs\\Documents\\Python\\Catalogue\\292-302.xlsx\",sheetname=\"280-301\")\n",
    "#提取目标数据\n",
    "data=primary_data[['产品型号','产品商标','产品名称','批次','车辆类型','外形尺寸（长×宽×高）长（mm）','总质量（kg）','整备质量（kg）','准拖挂车总质量（kg）','驱动电机安装数量','变速器档位数','变速器各档位传动比','主减速器速比(驱动桥速比)','电动汽车驱动电机额定功率/转速/转矩（kW/r/min/N.m）','电动汽车驱动电机峰值功率/转速/转矩（kW/r/min/N.m）','后桥（轴）生产企业','电动汽车驱动电机生产企业','储能装置总储电量（kWh）','储能装置总成标称电压（V）','储能装置总成质量（kg）','电动汽车储能装置种类']]"
   ]
  },
  {
   "cell_type": "code",
   "execution_count": 4,
   "metadata": {
    "collapsed": true
   },
   "outputs": [],
   "source": [
    "#数据清洗\n",
    "def num_extract(extract_str,integer,emptyReturn,returnnum):\n",
    "    if integer=='integer':\n",
    "        Rexp='\\d+'\n",
    "    elif integer=='decimal':\n",
    "        Rexp='\\d{1,5}(?:\\.\\d+)?'\n",
    "    else:\n",
    "        print('Error input in num_extract')\n",
    "    if type(extract_str)==str:\n",
    "        extract_str=re.findall(Rexp,extract_str)\n",
    "        if extract_str==[]:\n",
    "            extract_str=np.array([emptyReturn])\n",
    "        else:\n",
    "            extract_str=np.array(list(map(float,extract_str)))\n",
    "            if returnnum==1:\n",
    "                extract_str=float(extract_str.max())\n",
    "    return(extract_str)\n",
    "\n",
    "data=data.sort_values(by='批次',ascending=False)\n",
    "data=data.drop_duplicates(subset='产品型号',keep='first')\n",
    "data=data.fillna({'主减速器速比(驱动桥速比)':float(1),'变速器各档位传动比':float(1),'准拖挂车总质量（kg）':int(0),'整备质量（kg）':int(0)})\n",
    "for i in data.index:\n",
    "    if '城市客车' in data.loc[i,'产品名称']:\n",
    "        data.loc[i,'车型大类']='公交'\n",
    "    elif '客车' in data.loc[i,'产品名称']:  \n",
    "        data.loc[i,'车型大类']='大巴'\n",
    "    elif '乘用车' in data.loc[i,'产品名称']:\n",
    "        data.loc[i,'车型大类']='乘用车'\n",
    "    else:\n",
    "        data.loc[i,'车型大类']='卡车'\n",
    "    if '纯电动' not in data.loc[i,'产品名称']:\n",
    "        data=data.drop([i])\n",
    "#计算轮端最大扭矩与额定输出功率    \n",
    "    try:\n",
    "        motor_num=data.loc[i,'驱动电机安装数量']\n",
    "        motor_num=num_extract(motor_num,'integer',1,1)\n",
    "        motor_e=data.loc[i,'电动汽车驱动电机额定功率/转速/转矩（kW/r/min/N.m）']\n",
    "        motor_e=num_extract(motor_e,'decimal',0,0)\n",
    "        Pe=float(motor_e[0])\n",
    "        data.loc[i,'额定输出功率（kW）']=Pe*motor_num\n",
    "        motor_z=data.loc[i,'电动汽车驱动电机峰值功率/转速/转矩（kW/r/min/N.m）']\n",
    "        motor_z=num_extract(motor_z,'decimal',0,0)\n",
    "        Tz=float(motor_z[2])\n",
    "        nz=float(motor_z[1])\n",
    "        data.loc[i,'电机最大扭矩']=Tz*motor_num\n",
    "        data.loc[i,'电机最高转速']=nz\n",
    "        i1,i0=data.loc[i,['变速器各档位传动比','主减速器速比(驱动桥速比)']]\n",
    "        i1=num_extract(i1,'decimal',1,0)\n",
    "        i0=num_extract(i0,'decimal',1,1)\n",
    "        if type(i1)==float:\n",
    "            data.loc[i,'驱动形式']='直驱'\n",
    "            data.loc[i,'轮端最大扭矩（kNm）']=Tz*i1*i0*motor_num/1000\n",
    "        else:\n",
    "            data.loc[i,'轮端最大扭矩（kNm）']=Tz*i1.max()*i0*motor_num/1000\n",
    "        if len(i1)==1:\n",
    "                data.loc[i,'驱动形式']='直驱'\n",
    "        else:\n",
    "                data.loc[i,'驱动形式']='非直驱'\n",
    "        W_battery=data.loc[i,'储能装置总储电量（kWh）']\n",
    "        m_battery=data.loc[i,'储能装置总成质量（kg）']\n",
    "        W_battery=num_extract(W_battery,'decimal',0,1)\n",
    "        m_battery=num_extract(m_battery,'decimal',0,1)\n",
    "        data.loc[i,'储能装置能量密度（Wh/kg）']=W_battery/m_battery*1000\n",
    "        data.loc[i,'驱动电机安装数量']=motor_num\n",
    "        data.loc[i,['变速器各档位传动比','主减速器速比(驱动桥速比)']]=i1,i0\n",
    "    except:\n",
    "        pass\n",
    "#清洗质量与车长\n",
    "data[['总质量（kg）','整备质量（kg）','准拖挂车总质量（kg）','外形尺寸（长×宽×高）长（mm）']].astype(int,copy='False',errors='ignore')\n",
    "for i in data.index:\n",
    "    m_full=data.loc[i,'总质量（kg）']\n",
    "    m_curb=data.loc[i,'整备质量（kg）']\n",
    "    m_trailer=data.loc[i,'准拖挂车总质量（kg）']\n",
    "    length=data.loc[i,'外形尺寸（长×宽×高）长（mm）']\n",
    "    m_full=num_extract(m_full,'integer',0,1)\n",
    "    m_curb=num_extract(m_curb,'integer',0,1)\n",
    "    m_trailer=num_extract(m_trailer,'integer',0,1)\n",
    "    length=num_extract(length,'integer',0,1)\n",
    "    if m_trailer!=0:\n",
    "        m_full=m_full+m_trailer\n",
    "    data.loc[i,'总质量（kg）']=m_full\n",
    "    data.loc[i,'总质量（t）']=m_full/1000\n",
    "    data.loc[i,'整备质量（kg）']=m_curb\n",
    "    data.loc[i,'准拖挂车总质量（kg）']=m_trailer\n",
    "    data.loc[i,'外形尺寸（长×宽×高）长（mm）']=length\n",
    "    data.loc[i,'外形尺寸长（m）']=length/1000\n",
    "    voltage=data.loc[i,'储能装置总成标称电压（V）']\n",
    "    electricity=data.loc[i,'储能装置总储电量（kWh）']\n",
    "    voltage=num_extract(voltage,'decimal',0,1)\n",
    "    electricity=num_extract(electricity,'decimal',0,1)\n",
    "    data.loc[i,'储能装置总成标称电压（V）']=voltage\n",
    "    data.loc[i,'储能装置总储电量（kWh）']=electricity\n"
   ]
  },
  {
   "cell_type": "code",
   "execution_count": 5,
   "metadata": {
    "collapsed": true
   },
   "outputs": [],
   "source": [
    "#数据分类\n",
    "menue_EV=data.groupby(['车型大类'])\n",
    "menue_EV=dict(list(menue_EV))\n",
    "EVtruck=pd.DataFrame(menue_EV['卡车'])\n",
    "EVbus=pd.DataFrame(menue_EV['公交'])\n",
    "EVcoach=pd.DataFrame(menue_EV['大巴']) \n",
    "#添加细分车型标签\n",
    "#卡车按吨位细分\n",
    "truck_classifi=np.array([2800,3500,4500,7500,12000,14000,16000,18000,25000,32000])\n",
    "EVtruck['车型细分']='%st'%(truck_classifi[0]/1000)\n",
    "for i in np.arange(0,len(truck_classifi)-1):\n",
    "    a=EVtruck[EVtruck['总质量（kg）']<truck_classifi[-(1+i)]].index\n",
    "    b=EVtruck[EVtruck['总质量（kg）']<truck_classifi[-(2+i)]].index\n",
    "    c=a.difference(b)\n",
    "    EVtruck.loc[c,'车型细分']='%st'%(truck_classifi[-(1+i)]/1000)\n",
    "\n",
    "#大巴按米端细分\n",
    "length=EVcoach['外形尺寸（长×宽×高）长（mm）']\n",
    "length=(length/1000).apply(math.floor)\n",
    "for i in length.index:\n",
    "    length[i]=str(length[i])+'米'\n",
    "EVcoach['车型细分']=length\n",
    "# 公交按米段细分\n",
    "length=EVbus['外形尺寸（长×宽×高）长（mm）']\n",
    "length=(length/1000).apply(math.floor)\n",
    "for i in length.index:\n",
    "    length[i]=str(length[i])+'米'\n",
    "EVbus['车型细分']=length"
   ]
  },
  {
   "cell_type": "code",
   "execution_count": 6,
   "metadata": {
    "collapsed": true
   },
   "outputs": [],
   "source": [
    "from ipywidgets import widgets,interact\n",
    "from IPython.display import display\n",
    "import IPython"
   ]
  },
  {
   "cell_type": "code",
   "execution_count": 7,
   "metadata": {
    "collapsed": true
   },
   "outputs": [],
   "source": [
    "cv_type=widgets.Dropdown(\n",
    "    options=['卡车', '城市客车', '旅游客车'],\n",
    "    value='卡车',\n",
    "    description='车型:',\n",
    "    disabled=False,\n",
    ")\n",
    "cv_type_dict={'卡车':EVtruck,'城市客车':EVbus,'旅游客车':EVcoach}\n",
    "cv_time_range=widgets.FloatRangeSlider(\n",
    "    min=cv_type_dict[cv_type.value]['批次'].min(),\n",
    "    max=cv_type_dict[cv_type.value]['批次'].max(),\n",
    "    value=[cv_type_dict[cv_type.value]['批次'].min(),cv_type_dict[cv_type.value]['批次'].max()],\n",
    "    step=1,\n",
    "    description='批次:',\n",
    "    disabled=False,\n",
    "    continuous_update=False,\n",
    "    orientation='horizontal',\n",
    "    readout=True,\n",
    "    readout_format='d',\n",
    ")\n",
    "cv_brand=widgets.Dropdown(\n",
    "    options=list(cv_type_dict[cv_type.value]['产品商标'].value_counts().index.values),\n",
    "    value=cv_type_dict[cv_type.value]['产品商标'].value_counts().index[0],\n",
    "    description='产品商标:',\n",
    "    disabled=False,\n",
    ")\n",
    "cv_subtype=widgets.Dropdown(\n",
    "    options=list(cv_type_dict[cv_type.value]['车型细分'].value_counts().index.values),\n",
    "    value=cv_type_dict[cv_type.value]['车型细分'].value_counts().index[0],\n",
    "    description='车型细分:',\n",
    "    disabled=False,\n",
    ")\n",
    "cv_xlabel=widgets.Dropdown(\n",
    "    options=['总质量（t）','外形尺寸长（m）'],\n",
    "    value='总质量（t）',\n",
    "    description='X轴值:',\n",
    "    disabled=False,\n",
    ")\n",
    "cv_ylabel=widgets.Dropdown(\n",
    "    options=['轮端最大扭矩（kNm）','额定输出功率（kW）','储能装置总成标称电压（V）','储能装置总储电量（kWh）','储能装置能量密度（Wh/kg）'],\n",
    "    value='轮端最大扭矩（kNm）',\n",
    "    description='Y轴值:',\n",
    "    disabled=False,\n",
    ")\n",
    "cv_xlabel_range=widgets.FloatRangeSlider(\n",
    "    min=cv_type_dict[cv_type.value][cv_xlabel.value].min(),\n",
    "    max=cv_type_dict[cv_type.value][cv_xlabel.value].max(),\n",
    "    value=[cv_type_dict[cv_type.value][cv_xlabel.value].min(),cv_type_dict[cv_type.value][cv_xlabel.value].max()],\n",
    "    step=0.1,\n",
    "    description='X轴范围:',\n",
    "    disabled=False,\n",
    "    continuous_update=False,\n",
    "    orientation='horizontal',\n",
    "    readout=True,\n",
    "    readout_format='d',\n",
    ")\n",
    "cv_ylabel_range=widgets.FloatRangeSlider(\n",
    "    min=cv_type_dict[cv_type.value][cv_ylabel.value].min(),\n",
    "    max=cv_type_dict[cv_type.value][cv_ylabel.value].max(),\n",
    "    value=[cv_type_dict[cv_type.value][cv_ylabel.value].min(),cv_type_dict[cv_type.value][cv_ylabel.value].max()],\n",
    "    step=0.1,\n",
    "    description='Y轴范围:',\n",
    "    disabled=False,\n",
    "    continuous_update=False,\n",
    "    orientation='horizontal',\n",
    "    readout=True,\n",
    "    readout_format='d',\n",
    ")\n",
    "cv_button=widgets.Button(\n",
    "    value=False,\n",
    "    description='生成图像',\n",
    "    disabled=False,\n",
    "    button_style='', # 'success', 'info', 'warning', 'danger' or ''\n",
    "    tooltip='Description',\n",
    "    icon='check'\n",
    ")\n",
    "cv_button2=widgets.Button(\n",
    "    value=False,\n",
    "    description='详细参数',\n",
    "    disabled=False,\n",
    "    button_style='', # 'success', 'info', 'warning', 'danger' or ''\n",
    "    tooltip='Description',\n",
    "    icon='check'\n",
    ")"
   ]
  },
  {
   "cell_type": "code",
   "execution_count": 8,
   "metadata": {
    "collapsed": true
   },
   "outputs": [],
   "source": [
    "def cv_type_change(change):\n",
    "    cv_brand.value=cv_type_dict[cv_type.value]['产品商标'].value_counts().index[0]\n",
    "    cv_brand.options=list(cv_type_dict[cv_type.value]['产品商标'].value_counts().index.values)\n",
    "    cv_xlabel_range.min=cv_type_dict[cv_type.value][cv_xlabel.value].min()\n",
    "    cv_xlabel_range.max=cv_type_dict[cv_type.value][cv_xlabel.value].max()\n",
    "    cv_xlabel_range.value=[cv_type_dict[cv_type.value][cv_xlabel.value].min(),cv_type_dict[cv_type.value][cv_xlabel.value].max()]\n",
    "    cv_ylabel_range.min=cv_type_dict[cv_type.value][cv_ylabel.value].min()\n",
    "    cv_ylabel_range.max=cv_type_dict[cv_type.value][cv_ylabel.value].max()\n",
    "    cv_ylabel_range.value=[cv_type_dict[cv_type.value][cv_ylabel.value].min(),cv_type_dict[cv_type.value][cv_ylabel.value].max()]\n",
    "cv_type.observe(cv_type_change,names='value')\n",
    "def cv_xlabel_change(change):\n",
    "    cv_xlabel_range.min=cv_type_dict[cv_type.value][cv_xlabel.value].min()\n",
    "    cv_xlabel_range.max=cv_type_dict[cv_type.value][cv_xlabel.value].max()\n",
    "    cv_xlabel_range.value=[cv_type_dict[cv_type.value][cv_xlabel.value].min(),cv_type_dict[cv_type.value][cv_xlabel.value].max()]\n",
    "cv_xlabel.observe(cv_xlabel_change,names='value')\n",
    "def cv_ylabel_change(change):\n",
    "    cv_ylabel_range.min=cv_type_dict[cv_type.value][cv_ylabel.value].min()\n",
    "    cv_ylabel_range.max=cv_type_dict[cv_type.value][cv_ylabel.value].max()\n",
    "    cv_ylabel_range.value=[cv_type_dict[cv_type.value][cv_ylabel.value].min(),cv_type_dict[cv_type.value][cv_ylabel.value].max()]\n",
    "cv_ylabel.observe(cv_ylabel_change,names='value')"
   ]
  },
  {
   "cell_type": "code",
   "execution_count": 9,
   "metadata": {
    "scrolled": false
   },
   "outputs": [
    {
     "data": {
      "image/png": "[encoded data removed]",
      "text/plain": [
       "<matplotlib.figure.Figure at 0x1dca2dc2940>"
      ]
     },
     "metadata": {},
     "output_type": "display_data"
    },
    {
     "data": {
      "text/plain": [
       "<function __main__.f>"
      ]
     },
     "execution_count": 9,
     "metadata": {},
     "output_type": "execute_result"
    }
   ],
   "source": [
    "def f(cvtime,cvtype='卡车',cvbrand='东风',xlabel='总质量（t）',xrange=[cv_type_dict[cv_type.value][cv_xlabel.value].min(),cv_type_dict[cv_type.value][cv_xlabel.value].max()],ylabel='轮端最大扭矩（kNm）',yrange=[cv_type_dict[cv_type.value][cv_ylabel.value].min(),cv_type_dict[cv_type.value][cv_ylabel.value].max()]):\n",
    "    reference=cv_brand.value\n",
    "    EV=cv_type_dict[cv_type.value]\n",
    "    EV=EV[EV['批次']<cvtime[1]]\n",
    "    EV=EV[EV['批次']>cvtime[0]]\n",
    "    EV_reference=EV[EV['产品商标']==reference]\n",
    "    reference_color='r'\n",
    "    fig=plt.figure(1,figsize=(12,10))\n",
    "    ax1=fig.add_subplot(2,2,1)\n",
    "    ax2=fig.add_subplot(2,2,2)\n",
    "    ax3=fig.add_subplot(2,2,3)\n",
    "    #ax1=fig.add_subplot(2,2,1)\n",
    "    brand=EV['产品商标'].value_counts()[:10]\n",
    "    ax1.bar(np.arange(10),brand)\n",
    "    ax1.set_xticks(np.arange(10))\n",
    "    ax1.set_xticklabels(brand.index.values,rotation=30)\n",
    "    if reference in brand.index:\n",
    "        reference_loc=brand.index.get_loc(reference)\n",
    "        ax1.bar(reference_loc,brand.iloc[reference_loc],color=reference_color)\n",
    "    ax1.set_ylabel('公告车型数量')\n",
    "\n",
    "    #ax2=fig.add_subplot(2,2,2)\n",
    "    brand=EV['车型细分'].value_counts()\n",
    "    reference_brand=EV_reference['车型细分'].value_counts()\n",
    "    brand=pd.DataFrame({0:brand,1:reference_brand})\n",
    "    brand=brand.fillna(0)\n",
    "    brand[0]=brand[0]-brand[1]\n",
    "    brand=brand.sort_values(by=0,ascending=False)\n",
    "    ax2.bar(np.arange(brand.index.size),brand[1],color=reference_color,label=reference)\n",
    "    ax2.bar(np.arange(brand.index.size),brand[0],bottom=brand[1],label='行业')\n",
    "    ax2.set_xticks(np.arange(brand.index.size))\n",
    "    ax2.set_xticklabels(brand.index.values,rotation=30)\n",
    "    ax2.legend(loc='best')\n",
    "    #plt.bar(np.arange(brand.index.size),reference_brand,color='r') \n",
    "    ax2.set_xlabel('细分车型')\n",
    "    ax2.set_ylabel('公告车型数量')\n",
    "    plt.subplots_adjust(wspace=0.2)\n",
    "    \n",
    "    \n",
    "    EV=EV[EV[xlabel]<xrange[1]]\n",
    "    EV=EV[EV[ylabel]<yrange[1]]\n",
    "    EV=EV[EV[xlabel]>xrange[0]]\n",
    "    EV=EV[EV[ylabel]>yrange[0]]\n",
    "    EV_reference=EV[EV['产品商标']==reference]\n",
    "    ax3.scatter(EV[xlabel],EV[ylabel],label='行业')\n",
    "    ax3.scatter(EV_reference[xlabel],EV_reference[ylabel],color=reference_color,label=reference)\n",
    "    ax3.set_xlabel(xlabel)\n",
    "    ax3.set_ylabel(ylabel)\n",
    "    plt.grid()\n",
    "    ax3.legend(loc='best')\n",
    "    #return EV.iloc[:10,[0,1,3,9,11,12,14]]\n",
    "interact(f,cvtime=cv_time_range,cvtype=cv_type,cvbrand=cv_brand,xlabel=cv_xlabel,xrange=cv_xlabel_range,ylabel=cv_ylabel,yrange=cv_ylabel_range)"
   ]
  },
  {
   "cell_type": "code",
   "execution_count": 10,
   "metadata": {
    "collapsed": true
   },
   "outputs": [],
   "source": [
    "sum??\n"
   ]
  },
  {
   "cell_type": "code",
   "execution_count": 11,
   "metadata": {
    "collapsed": true
   },
   "outputs": [],
   "source": [
    "pd.pivot??"
   ]
  },
  {
   "cell_type": "code",
   "execution_count": null,
   "metadata": {
    "collapsed": true
   },
   "outputs": [],
   "source": []
  }
 ],
 "metadata": {
  "kernelspec": {
   "display_name": "Python 3",
   "language": "python",
   "name": "python3"
  },
  "language_info": {
   "codemirror_mode": {
    "name": "ipython",
    "version": 3
   },
   "file_extension": ".py",
   "mimetype": "text/x-python",
   "name": "python",
   "nbconvert_exporter": "python",
   "pygments_lexer": "ipython3",
   "version": "3.6.3"
  },
  "widgets": {
   "application/vnd.jupyter.widget-state+json": {
    "state": {},
    "version_major": 2,
    "version_minor": 0
   }
  }
 },
 "nbformat": 4,
 "nbformat_minor": 2
}
