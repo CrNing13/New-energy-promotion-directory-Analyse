{
 "cells": [
  {
   "cell_type": "markdown",
   "metadata": {},
   "source": [
    "#  Electric Commercial Vehicles Announcement Analyse(292-302)"
   ]
  },
  {
   "cell_type": "code",
   "execution_count": 3,
   "metadata": {
    "scrolled": true
   },
   "outputs": [
    {
     "data": {
      "text/html": [
       "<button onclick=\"$('.input, .prompt, .output_stderr, .output_error').toggle();\">Toggle Code</button>"
      ]
     },
     "metadata": {},
     "output_type": "display_data"
    }
   ],
   "source": [
    "%matplotlib inline\n",
    "import pandas as pd\n",
    "\n",
    "#隐藏代码\n",
    "from IPython.display import display_html \n",
    "display_html(\"\"\"<button onclick=\"$('.input, .prompt, .output_stderr, .output_error').toggle();\">Toggle Code</button>\"\"\", raw=True)\n"
   ]
  },
  {
   "cell_type": "code",
   "execution_count": 4,
   "metadata": {
    "scrolled": false
   },
   "outputs": [],
   "source": [
    "#原始数据载入\n",
    "primary_data=pd.read_excel(r\"https://raw.githubusercontent.com/CrNing13/New-energy-promotion-directory-Analyse/master/292-302.xlsx\",sheetname=\"280-301\")\n",
    "#提取目标数据\n",
    "data=primary_data[['产品型号','产品商标','产品名称','批次','车辆类型','外形尺寸（长×宽×高）长（mm）','总质量（kg）','整备质量（kg）','准拖挂车总质量（kg）','驱动电机安装数量','变速器档位数','变速器各档位传动比','主减速器速比(驱动桥速比)','电动汽车驱动电机额定功率/转速/转矩（kW/r/min/N.m）','电动汽车驱动电机峰值功率/转速/转矩（kW/r/min/N.m）','后桥（轴）生产企业','电动汽车驱动电机生产企业','储能装置总储电量（kWh）','储能装置总成标称电压（V）','储能装置总成质量（kg）','电动汽车储能装置种类']]"
   ]
  },
  {
   "cell_type": "code",
   "execution_count": 5,
   "metadata": {
    "collapsed": true
   },
   "outputs": [],
   "source": [
    "#函数定义\n",
    "#数字提取\n",
    "def num_extract(extract_str,integer,emptyReturn,returnnum):\n",
    "    if integer=='integer':\n",
    "        Rexp='\\d+'\n",
    "    elif integer=='decimal':\n",
    "        Rexp='\\d{1,5}(?:\\.\\d+)?'\n",
    "    else:\n",
    "        print('Error input in num_extract')\n",
    "    if type(extract_str)==str:\n",
    "        extract_str=re.findall(Rexp,extract_str)\n",
    "        if extract_str==[]:\n",
    "            extract_str=np.array([emptyReturn])\n",
    "        else:\n",
    "            extract_str=np.array(list(map(float,extract_str)))\n",
    "            if returnnum==1:\n",
    "                extract_str=float(extract_str.max())\n",
    "    return(extract_str)\n",
    "#车类分析\n",
    "def overall_num(EV,reference):\n",
    "    reference_color='r'\n",
    "    EV_reference=EV[EV['产品商标']==reference]\n",
    "    fig=plt.figure(figsize=(12,6))\n",
    "    ax1=fig.add_subplot(1,2,1)\n",
    "    brand=EV['产品商标'].value_counts()[:10]\n",
    "    plt.bar(np.arange(10),brand)\n",
    "    ax1.set_xticks(np.arange(10))\n",
    "    ax1.set_xticklabels(brand.index.values,rotation=30)\n",
    "    if reference in brand.index:\n",
    "        reference_loc=brand.index.get_loc(reference)\n",
    "        plt.bar(reference_loc,brand.iloc[reference_loc],color=reference_color)\n",
    "    plt.ylabel('公告车型数量')\n",
    "    \n",
    "    \n",
    "    ax2=fig.add_subplot(1,2,2)\n",
    "    brand=EV['车型细分'].value_counts()\n",
    "    reference_brand=EV_reference['车型细分'].value_counts()\n",
    "    brand=pd.DataFrame({0:brand,1:reference_brand})\n",
    "    brand=brand.fillna(0)\n",
    "    brand[0]=brand[0]-brand[1]\n",
    "    brand=brand.sort_values(by=0,ascending=False)\n",
    "    plt.bar(np.arange(brand.index.size),brand[1],color=reference_color,label=reference)\n",
    "    plt.bar(np.arange(brand.index.size),brand[0],bottom=brand[1],label='行业')\n",
    "    ax2.set_xticks(np.arange(brand.index.size))\n",
    "    ax2.set_xticklabels(brand.index.values,rotation=30)\n",
    "    ax2.legend(loc='best')\n",
    "    #plt.bar(np.arange(brand.index.size),reference_brand,color='r') \n",
    "    plt.xlabel('细分车型')\n",
    "    plt.ylabel('公告车型数量')\n",
    "    plt.subplots_adjust(wspace=0.2)\n",
    "    \n",
    "def overall_columns(EV,reference):\n",
    "    if '卡车' in EV.loc[EV.index.values[1],'车型大类']:\n",
    "        flag='总质量（kg）'\n",
    "    else:\n",
    "        flag='外形尺寸（长×宽×高）长（mm）'\n",
    "    reference_color='r'\n",
    "    EV_reference=EV[EV['产品商标']==reference]\n",
    "    fig=plt.figure(figsize=(12,10))\n",
    "    ax1=fig.add_subplot(2,2,1)\n",
    "    plt.semilogx(EV[flag],EV['轮端最大扭矩'],'.',label='行业')\n",
    "    plt.semilogx(EV_reference[flag],EV_reference['轮端最大扭矩'],'.',color='r',label=reference)\n",
    "    plt.xlabel(flag)\n",
    "    plt.ylabel('轮端最大扭矩(Nm)')\n",
    "    ax1.set_title('轮端最大扭矩分布')\n",
    "    plt.grid()\n",
    "    ax1.legend(loc='best')\n",
    "    \n",
    "    ax2=fig.add_subplot(2,2,2)\n",
    "    plt.semilogx(EV[flag],EV['额定输出功率'],'.',label='行业')\n",
    "    plt.semilogx(EV_reference[flag],EV_reference['额定输出功率'],'.',color='r',label=reference)\n",
    "    plt.xlabel(flag)\n",
    "    plt.ylabel('额定输出功率(kW)')\n",
    "    plt.title('额定输出功率分布')\n",
    "    plt.grid()\n",
    "    ax2.legend(loc='best')\n",
    "    \n",
    "    ax3=fig.add_subplot(2,2,3)\n",
    "    plt.semilogx(EV[flag],EV['储能装置总成标称电压（V）'],'.',label='行业')\n",
    "    plt.semilogx(EV_reference[flag],EV_reference['储能装置总成标称电压（V）'],'.',color='r',label=reference)\n",
    "    plt.xlabel(flag)\n",
    "    plt.ylabel('电压（V）')\n",
    "    plt.title('电池电压分布')\n",
    "    plt.grid()\n",
    "    ax3.legend(loc='best')\n",
    "    \n",
    "    ax4=fig.add_subplot(2,2,4)\n",
    "    plt.semilogx(EV[flag],EV['储能装置总储电量（kWh）'],'.',label='行业')\n",
    "    plt.semilogx(EV_reference[flag],EV_reference['储能装置总储电量（kWh）'],'.',color='r',label=reference)\n",
    "    plt.xlabel(flag)\n",
    "    plt.ylabel('电量（kWh）')\n",
    "    plt.title('电池电量分布')\n",
    "    plt.grid()\n",
    "    ax4.legend(loc='best')\n",
    "    if flag=='总质量（kg）':\n",
    "        label_list=list(truck_classifi)\n",
    "    else:\n",
    "        label_list=[6000,7000,8000,9000,10000,11000,12000,18000]\n",
    "    ax1.set_xticks(label_list)\n",
    "    ax1.set_xticklabels(label_list,rotation=30)\n",
    "    ax2.set_xticks(label_list)\n",
    "    ax2.set_xticklabels(label_list,rotation=30)\n",
    "    ax3.set_xticks(label_list)\n",
    "    ax3.set_xticklabels(label_list,rotation=30)\n",
    "    ax4.set_xticks(label_list)\n",
    "    ax4.set_xticklabels(label_list,rotation=30)   \n",
    "    plt.subplots_adjust(wspace=0.2,hspace=0.3)\n",
    "#单车型分析\n",
    "def dir_percent(EV):\n",
    "    pivot_Dir=pd.pivot_table(EV[EV['驱动形式']=='直驱'],index=['批次'],columns=['车型细分'],values=['产品型号'],aggfunc=[len],fill_value=0,margins=True)\n",
    "    pivot_Dir=pivot_Dir.cumsum()\n",
    "    pivot_Trans=pd.pivot_table(EV,index=['批次'],columns=['车型细分'],values=['产品型号'],aggfunc=[len],fill_value=0,margins=True)\n",
    "    pivot_Trans=pivot_Trans.cumsum()\n",
    "    pivot_drive=pivot_Dir.div(pivot_Trans,fill_value=0)\n",
    "    pivot_drive.fillna(0,inplace=True)\n",
    "    return(pivot_drive)\n",
    "\n",
    "def motor_performence(EV,vehicle_name):\n",
    "    motor=EV[EV['车型细分']==vehicle_name]\n",
    "    motor=motor[['电机最高转速','电机最大扭矩']]\n",
    "    motor=pd.pivot_table(motor,index=['电机最高转速','电机最大扭矩'],aggfunc=[len])\n",
    "    n=np.arange(0,len(motor))\n",
    "    T=np.arange(0,len(motor))\n",
    "    for i in range(0,len(motor)): \n",
    "        n[i]=motor.index.values[i][0]\n",
    "    for i in range(0,len(motor)): \n",
    "        T[i]=motor.index.values[i][1]\n",
    "    s=motor.iloc[:,0] *10\n",
    "    return(n,T,s)\n",
    "\n",
    "def vehicle_figure(EV,vehicle_name,reference):\n",
    "    #行业直驱占比\n",
    "    fig=plt.figure(figsize=(12,6))\n",
    "    ax1=fig.add_subplot(1,2,1)\n",
    "    pivot_drive=dir_percent(EV)\n",
    "    try:\n",
    "        plt.plot(pivot_drive.index.values[0:-1],pivot_drive[0:-1][('len', '产品型号', vehicle_name)].values,label='行业')\n",
    "    except:\n",
    "        pass        \n",
    "    EV_reference=EV[EV['产品商标']==reference]\n",
    "    pivot_drive_reference=dir_percent(EV_reference)\n",
    "    try:\n",
    "        plt.plot(pivot_drive_reference.index.values[0:-1],pivot_drive_reference[0:-1][('len', '产品型号', vehicle_name)].values,color='r',label=reference)\n",
    "    except:\n",
    "        pass\n",
    "    plt.xlabel('批次')\n",
    "    plt.ylabel('直驱占比')\n",
    "    ax1.set_ylim(0,1.1)\n",
    "    plt.title('%s 车型各批直驱占比（累加）'%(vehicle_name))\n",
    "    ax1.legend(loc='best')\n",
    "    #参考企业直驱占比\n",
    "    ax2=fig.add_subplot(1,2,2)\n",
    "    EV_reference=EV[EV['产品商标']==reference] \n",
    "    n,T,s=motor_performence(EV,vehicle_name)\n",
    "    plt.scatter(n,T,s,alpha=1,label='行业')\n",
    "    try:\n",
    "        nr,Tr,sr=motor_performence(EV_reference,vehicle_name)\n",
    "        plt.scatter(nr,Tr,sr,alpha=1,color='r',label=reference)\n",
    "    except:\n",
    "        pass\n",
    "    plt.xlabel('最高转速(rad/min)')\n",
    "    plt.ylabel('最大扭矩(Nm)')\n",
    "    plt.title('%s 车型电机配置'%(vehicle_name))\n",
    "    plt.subplots_adjust(wspace=0.2)\n",
    "    ax2.legend(loc='best')\n",
    "    "
   ]
  },
  {
   "cell_type": "code",
   "execution_count": 6,
   "metadata": {},
   "outputs": [
    {
     "ename": "NameError",
     "evalue": "name 're' is not defined",
     "output_type": "error",
     "traceback": [
      "\u001b[1;31m---------------------------------------------------------------------------\u001b[0m",
      "\u001b[1;31mNameError\u001b[0m                                 Traceback (most recent call last)",
      "\u001b[1;32m<ipython-input-6-bd5ffceed161>\u001b[0m in \u001b[0;36m<module>\u001b[1;34m()\u001b[0m\n\u001b[0;32m     51\u001b[0m     \u001b[0mm_trailer\u001b[0m\u001b[1;33m=\u001b[0m\u001b[0mdata\u001b[0m\u001b[1;33m.\u001b[0m\u001b[0mloc\u001b[0m\u001b[1;33m[\u001b[0m\u001b[0mi\u001b[0m\u001b[1;33m,\u001b[0m\u001b[1;34m'准拖挂车总质量（kg）'\u001b[0m\u001b[1;33m]\u001b[0m\u001b[1;33m\u001b[0m\u001b[0m\n\u001b[0;32m     52\u001b[0m     \u001b[0mlength\u001b[0m\u001b[1;33m=\u001b[0m\u001b[0mdata\u001b[0m\u001b[1;33m.\u001b[0m\u001b[0mloc\u001b[0m\u001b[1;33m[\u001b[0m\u001b[0mi\u001b[0m\u001b[1;33m,\u001b[0m\u001b[1;34m'外形尺寸（长×宽×高）长（mm）'\u001b[0m\u001b[1;33m]\u001b[0m\u001b[1;33m\u001b[0m\u001b[0m\n\u001b[1;32m---> 53\u001b[1;33m     \u001b[0mm_full\u001b[0m\u001b[1;33m=\u001b[0m\u001b[0mnum_extract\u001b[0m\u001b[1;33m(\u001b[0m\u001b[0mm_full\u001b[0m\u001b[1;33m,\u001b[0m\u001b[1;34m'integer'\u001b[0m\u001b[1;33m,\u001b[0m\u001b[1;36m0\u001b[0m\u001b[1;33m,\u001b[0m\u001b[1;36m1\u001b[0m\u001b[1;33m)\u001b[0m\u001b[1;33m\u001b[0m\u001b[0m\n\u001b[0m\u001b[0;32m     54\u001b[0m     \u001b[0mdata\u001b[0m\u001b[1;33m.\u001b[0m\u001b[0mloc\u001b[0m\u001b[1;33m[\u001b[0m\u001b[0mi\u001b[0m\u001b[1;33m,\u001b[0m\u001b[1;34m'总质量（kg）'\u001b[0m\u001b[1;33m]\u001b[0m\u001b[1;33m=\u001b[0m\u001b[0mm_full\u001b[0m\u001b[1;33m\u001b[0m\u001b[0m\n\u001b[0;32m     55\u001b[0m     \u001b[0mm_curb\u001b[0m\u001b[1;33m=\u001b[0m\u001b[0mnum_extract\u001b[0m\u001b[1;33m(\u001b[0m\u001b[0mm_curb\u001b[0m\u001b[1;33m,\u001b[0m\u001b[1;34m'integer'\u001b[0m\u001b[1;33m,\u001b[0m\u001b[1;36m0\u001b[0m\u001b[1;33m,\u001b[0m\u001b[1;36m1\u001b[0m\u001b[1;33m)\u001b[0m\u001b[1;33m\u001b[0m\u001b[0m\n",
      "\u001b[1;32m<ipython-input-5-990bf7efab5e>\u001b[0m in \u001b[0;36mnum_extract\u001b[1;34m(extract_str, integer, emptyReturn, returnnum)\u001b[0m\n\u001b[0;32m      9\u001b[0m         \u001b[0mprint\u001b[0m\u001b[1;33m(\u001b[0m\u001b[1;34m'Error input in num_extract'\u001b[0m\u001b[1;33m)\u001b[0m\u001b[1;33m\u001b[0m\u001b[0m\n\u001b[0;32m     10\u001b[0m     \u001b[1;32mif\u001b[0m \u001b[0mtype\u001b[0m\u001b[1;33m(\u001b[0m\u001b[0mextract_str\u001b[0m\u001b[1;33m)\u001b[0m\u001b[1;33m==\u001b[0m\u001b[0mstr\u001b[0m\u001b[1;33m:\u001b[0m\u001b[1;33m\u001b[0m\u001b[0m\n\u001b[1;32m---> 11\u001b[1;33m         \u001b[0mextract_str\u001b[0m\u001b[1;33m=\u001b[0m\u001b[0mre\u001b[0m\u001b[1;33m.\u001b[0m\u001b[0mfindall\u001b[0m\u001b[1;33m(\u001b[0m\u001b[0mRexp\u001b[0m\u001b[1;33m,\u001b[0m\u001b[0mextract_str\u001b[0m\u001b[1;33m)\u001b[0m\u001b[1;33m\u001b[0m\u001b[0m\n\u001b[0m\u001b[0;32m     12\u001b[0m         \u001b[1;32mif\u001b[0m \u001b[0mextract_str\u001b[0m\u001b[1;33m==\u001b[0m\u001b[1;33m[\u001b[0m\u001b[1;33m]\u001b[0m\u001b[1;33m:\u001b[0m\u001b[1;33m\u001b[0m\u001b[0m\n\u001b[0;32m     13\u001b[0m             \u001b[0mextract_str\u001b[0m\u001b[1;33m=\u001b[0m\u001b[0mnp\u001b[0m\u001b[1;33m.\u001b[0m\u001b[0marray\u001b[0m\u001b[1;33m(\u001b[0m\u001b[1;33m[\u001b[0m\u001b[0memptyReturn\u001b[0m\u001b[1;33m]\u001b[0m\u001b[1;33m)\u001b[0m\u001b[1;33m\u001b[0m\u001b[0m\n",
      "\u001b[1;31mNameError\u001b[0m: name 're' is not defined"
     ]
    }
   ],
   "source": [
    "#数据清洗\n",
    "data=data.sort_values(by='批次',ascending=False)\n",
    "data=data.drop_duplicates(subset='产品型号',keep='first')\n",
    "data=data.fillna({'主减速器速比(驱动桥速比)':float(1),'变速器各档位传动比':float(1),'准拖挂车总质量（kg）':int(0),'整备质量（kg）':int(0)})\n",
    "for i in data.index:\n",
    "    if '城市客车' in data.loc[i,'产品名称']:\n",
    "        data.loc[i,'车型大类']='公交'\n",
    "    elif '客车' in data.loc[i,'产品名称']:  \n",
    "        data.loc[i,'车型大类']='大巴'\n",
    "    elif '乘用车' in data.loc[i,'产品名称']:\n",
    "        data.loc[i,'车型大类']='乘用车'\n",
    "    else:\n",
    "        data.loc[i,'车型大类']='卡车'\n",
    "    if '纯电动' not in data.loc[i,'产品名称']:\n",
    "        data=data.drop([i])\n",
    "#计算轮端最大扭矩与额定输出功率    \n",
    "    try:\n",
    "        motor_num=data.loc[i,'驱动电机安装数量']\n",
    "        motor_num=num_extract(motor_num,'integer',1,1)\n",
    "        motor_e=data.loc[i,'电动汽车驱动电机额定功率/转速/转矩（kW/r/min/N.m）']\n",
    "        motor_e=num_extract(motor_e,'decimal',0,0)\n",
    "        Pe=float(motor_e[0])\n",
    "        data.loc[i,'额定输出功率']=Pe*motor_num\n",
    "        motor_z=data.loc[i,'电动汽车驱动电机峰值功率/转速/转矩（kW/r/min/N.m）']\n",
    "        motor_z=num_extract(motor_z,'decimal',0,0)\n",
    "        Tz=float(motor_z[2])\n",
    "        nz=float(motor_z[1])\n",
    "        data.loc[i,'电机最大扭矩']=Tz*motor_num\n",
    "        data.loc[i,'电机最高转速']=nz\n",
    "        i1,i0=data.loc[i,['变速器各档位传动比','主减速器速比(驱动桥速比)']]\n",
    "        i1=num_extract(i1,'decimal',1,0)\n",
    "        i0=num_extract(i0,'decimal',1,1)\n",
    "        if type(i1)==float:\n",
    "            data.loc[i,'驱动形式']='直驱'\n",
    "            data.loc[i,'轮端最大扭矩']=Tz*i1*i0*motor_num\n",
    "        else:\n",
    "            data.loc[i,'轮端最大扭矩']=Tz*i1.max()*i0*motor_num\n",
    "        if len(i1)==1:\n",
    "                data.loc[i,'驱动形式']='直驱'\n",
    "        else:\n",
    "                data.loc[i,'驱动形式']='非直驱'\n",
    "        data.loc[i,'驱动电机安装数量']=motor_num\n",
    "        data.loc[i,['变速器各档位传动比','主减速器速比(驱动桥速比)']]=i1,i0\n",
    "    except:\n",
    "        pass\n",
    "#清洗质量与车长\n",
    "data[['总质量（kg）','整备质量（kg）','准拖挂车总质量（kg）','外形尺寸（长×宽×高）长（mm）']].astype(int,copy='False',errors='ignore')\n",
    "for i in data.index:\n",
    "    m_full=data.loc[i,'总质量（kg）']\n",
    "    m_curb=data.loc[i,'整备质量（kg）']\n",
    "    m_trailer=data.loc[i,'准拖挂车总质量（kg）']\n",
    "    length=data.loc[i,'外形尺寸（长×宽×高）长（mm）']\n",
    "    m_full=num_extract(m_full,'integer',0,1)\n",
    "    data.loc[i,'总质量（kg）']=m_full\n",
    "    m_curb=num_extract(m_curb,'integer',0,1)\n",
    "    data.loc[i,'整备质量（kg）']=m_curb\n",
    "    m_trailer=num_extract(m_trailer,'integer',0,1)\n",
    "    data.loc[i,'准拖挂车总质量（kg）']=m_trailer\n",
    "    length=num_extract(length,'integer',0,1)\n",
    "    data.loc[i,'外形尺寸（长×宽×高）长（m）']=length\n",
    "    if m_trailer!=0:\n",
    "        m_full=m_full+m_trailer\n",
    "    data.loc[i,'总质量（kg）']=m_full\n",
    "    data.loc[i,'整备质量（kg）']=m_curb\n",
    "    data.loc[i,'准拖挂车总质量（kg）']=m_trailer\n",
    "    data.loc[i,'外形尺寸（长×宽×高）长（mm）']=length\n",
    "    voltage=data.loc[i,'储能装置总成标称电压（V）']\n",
    "    electricity=data.loc[i,'储能装置总储电量（kWh）']\n",
    "    voltage=num_extract(voltage,'decimal',0,1)\n",
    "    electricity=num_extract(electricity,'decimal',0,1)\n",
    "    data.loc[i,'储能装置总成标称电压（V）']=voltage\n",
    "    data.loc[i,'储能装置总储电量（kWh）']=electricity\n"
   ]
  },
  {
   "cell_type": "code",
   "execution_count": null,
   "metadata": {
    "collapsed": true
   },
   "outputs": [],
   "source": [
    "#数据分类\n",
    "menue_EV=data.groupby(['车型大类'])\n",
    "menue_EV=dict(list(menue_EV))\n",
    "EVtruck=pd.DataFrame(menue_EV['卡车'])\n",
    "EVbus=pd.DataFrame(menue_EV['公交'])\n",
    "EVcoach=pd.DataFrame(menue_EV['大巴']) \n",
    "#添加细分车型标签\n",
    "#卡车按吨位细分\n",
    "truck_classifi=np.array([2800,3500,4500,7500,12000,14000,16000,18000,25000,32000])\n",
    "EVtruck['车型细分']='%st'%(truck_classifi[0]/1000)\n",
    "for i in np.arange(0,len(truck_classifi)-1):\n",
    "    a=EVtruck[EVtruck['总质量（kg）']<truck_classifi[-(1+i)]].index\n",
    "    b=EVtruck[EVtruck['总质量（kg）']<truck_classifi[-(2+i)]].index\n",
    "    c=a.difference(b)\n",
    "    EVtruck.loc[c,'车型细分']='%st'%(truck_classifi[-(1+i)]/1000)\n",
    "\n",
    "#大巴按米端细分\n",
    "length=EVcoach['外形尺寸（长×宽×高）长（mm）']\n",
    "length=(length/1000).apply(math.floor)\n",
    "EVcoach['车型细分']=length\n",
    "# 公交按米段细分\n",
    "length=EVbus['外形尺寸（长×宽×高）长（mm）']\n",
    "length=(length/1000).apply(math.floor)\n",
    "EVbus['车型细分']=length"
   ]
  },
  {
   "cell_type": "markdown",
   "metadata": {},
   "source": [
    "## Truck Power Train Analyse"
   ]
  },
  {
   "cell_type": "markdown",
   "metadata": {},
   "source": [
    "### Overall "
   ]
  },
  {
   "cell_type": "code",
   "execution_count": null,
   "metadata": {},
   "outputs": [],
   "source": [
    "overall_num(EVtruck,'东风牌')"
   ]
  },
  {
   "cell_type": "code",
   "execution_count": null,
   "metadata": {},
   "outputs": [],
   "source": [
    "overall_columns(EVtruck[EVtruck['总质量（kg）']<4500],'东风牌')"
   ]
  },
  {
   "cell_type": "markdown",
   "metadata": {},
   "source": [
    "### Subtype Truck"
   ]
  },
  {
   "cell_type": "code",
   "execution_count": null,
   "metadata": {},
   "outputs": [],
   "source": [
    "vehicle_figure(EVtruck,'3.5t','东风牌')"
   ]
  },
  {
   "cell_type": "code",
   "execution_count": null,
   "metadata": {},
   "outputs": [],
   "source": [
    "vehicle_figure(EVtruck,'4.5t','东风牌')"
   ]
  },
  {
   "cell_type": "markdown",
   "metadata": {},
   "source": [
    "## Bus Power Train Anaslye"
   ]
  },
  {
   "cell_type": "markdown",
   "metadata": {},
   "source": [
    "### overall"
   ]
  },
  {
   "cell_type": "code",
   "execution_count": null,
   "metadata": {
    "scrolled": false
   },
   "outputs": [],
   "source": [
    "overall_num(EVbus,'宇通牌')"
   ]
  },
  {
   "cell_type": "code",
   "execution_count": null,
   "metadata": {},
   "outputs": [],
   "source": [
    "overall_columns(EVbus,'宇通牌')"
   ]
  },
  {
   "cell_type": "markdown",
   "metadata": {},
   "source": [
    "## Coach Power train Analyse"
   ]
  },
  {
   "cell_type": "markdown",
   "metadata": {},
   "source": [
    "### Overall"
   ]
  },
  {
   "cell_type": "code",
   "execution_count": null,
   "metadata": {},
   "outputs": [],
   "source": [
    "overall_num(EVcoach,'宇通牌')"
   ]
  },
  {
   "cell_type": "code",
   "execution_count": null,
   "metadata": {
    "scrolled": false
   },
   "outputs": [],
   "source": [
    "overall_columns(EVcoach,'宇通牌')"
   ]
  }
 ],
 "metadata": {
  "kernelspec": {
   "display_name": "Python 3",
   "language": "python",
   "name": "python3"
  },
  "language_info": {
   "codemirror_mode": {
    "name": "ipython",
    "version": 3
   },
   "file_extension": ".py",
   "mimetype": "text/x-python",
   "name": "python",
   "nbconvert_exporter": "python",
   "pygments_lexer": "ipython3",
   "version": "3.6.3"
  }
 },
 "nbformat": 4,
 "nbformat_minor": 2
}
