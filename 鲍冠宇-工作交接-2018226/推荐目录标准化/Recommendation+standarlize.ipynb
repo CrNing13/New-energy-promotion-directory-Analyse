{
 "cells": [
  {
   "cell_type": "code",
   "execution_count": 1,
   "metadata": {
    "collapsed": true
   },
   "outputs": [],
   "source": [
    "import pandas as pd\n",
    "import numpy as np\n",
    "import re\n",
    "primary_data=pd.read_excel(r\"D:\\bao.guanyu\\LocGit\\Menue\\20180202a.xlsx\",sheet_name='Sheet1',header=None)"
   ]
  },
  {
   "cell_type": "code",
   "execution_count": 2,
   "metadata": {
    "collapsed": true
   },
   "outputs": [],
   "source": [
    "primary_data.dropna(axis=1,how='all',inplace=True)\n",
    "primary_data.dropna(axis=0,how='all',inplace=True)\n",
    "name=primary_data[1]\n",
    "Rexp='[A-Z0-9-]{5,30}'\n",
    "code=[]\n",
    "code_index=[]\n",
    "vehicle_obj=['车辆型号']\n",
    "for i in name:\n",
    "    a=re.findall(Rexp,i)\n",
    "    if a!=[]:\n",
    "        code.append(a[0])\n",
    "        code_index.append(name[name==i].index.tolist())\n",
    "    else:\n",
    "        vehicle_obj.append(i)\n",
    "vehicle_obj=pd.Series(vehicle_obj).unique()"
   ]
  },
  {
   "cell_type": "code",
   "execution_count": 3,
   "metadata": {
    "collapsed": true,
    "scrolled": true
   },
   "outputs": [],
   "source": [
    "data=pd.DataFrame(columns=vehicle_obj)\n",
    "data['车辆型号']=code\n",
    "j=0\n",
    "flag=0\n",
    "for i in primary_data.index:\n",
    "    if j >data.index[-1]:\n",
    "        k=primary_data[1][i]\n",
    "        data[k][j]=primary_data[2][i]\n",
    "        break\n",
    "    if j<=len(code_index) and i!=code_index[j]:\n",
    "        k=primary_data[1][i]\n",
    "        data[k][j-1]=primary_data[2][i]\n",
    "    else:\n",
    "        j=j+1       \n",
    "data.dropna(axis=1,how='all',inplace=True)"
   ]
  },
  {
   "cell_type": "code",
   "execution_count": 4,
   "metadata": {},
   "outputs": [
    {
     "data": {
      "text/plain": [
       "\"\\nlength=[]\\nwidth=[]\\nhigh=[]\\nfor i,j,k in zip(data['外廓尺寸长（mm）：'],data['外廓尺寸宽（mm）：'],data['外廓尺寸高（mm）：']):\\n    def sizeExpress(data,datalist):\\n        if data%5==0 and int(str(data)[0])<3:\\n            datalist=datalist.append(str(data)[:5])\\n        else:\\n            datalist=datalist.append(str(data)[:4])\\n    sizeExpress(i,length)\\n    sizeExpress(j,width)\\n    sizeExpress(k,high)\\ndata['外廓尺寸长（mm）：'],data['外廓尺寸宽（mm）：'],data['外廓尺寸高（mm）：']=length,width,high\\n\""
      ]
     },
     "execution_count": 4,
     "metadata": {},
     "output_type": "execute_result"
    }
   ],
   "source": [
    "'''\n",
    "length=[]\n",
    "width=[]\n",
    "high=[]\n",
    "for i,j,k in zip(data['外廓尺寸长（mm）：'],data['外廓尺寸宽（mm）：'],data['外廓尺寸高（mm）：']):\n",
    "    def sizeExpress(data,datalist):\n",
    "        if data%5==0 and int(str(data)[0])<3:\n",
    "            datalist=datalist.append(str(data)[:5])\n",
    "        else:\n",
    "            datalist=datalist.append(str(data)[:4])\n",
    "    sizeExpress(i,length)\n",
    "    sizeExpress(j,width)\n",
    "    sizeExpress(k,high)\n",
    "data['外廓尺寸长（mm）：'],data['外廓尺寸宽（mm）：'],data['外廓尺寸高（mm）：']=length,width,high\n",
    "'''"
   ]
  },
  {
   "cell_type": "code",
   "execution_count": 5,
   "metadata": {
    "collapsed": true
   },
   "outputs": [],
   "source": [
    "data.to_excel(r\"D:\\bao.guanyu\\LocGit\\Menue\\20180202b.xlsx\")"
   ]
  }
 ],
 "metadata": {
  "kernelspec": {
   "display_name": "Python 3",
   "language": "python",
   "name": "python3"
  },
  "language_info": {
   "codemirror_mode": {
    "name": "ipython",
    "version": 3
   },
   "file_extension": ".py",
   "mimetype": "text/x-python",
   "name": "python",
   "nbconvert_exporter": "python",
   "pygments_lexer": "ipython3",
   "version": "3.6.3"
  }
 },
 "nbformat": 4,
 "nbformat_minor": 2
}
